{
 "cells": [
  {
   "cell_type": "code",
   "execution_count": 1,
   "metadata": {},
   "outputs": [],
   "source": [
    "%load_ext autoreload\n",
    "%autoreload 2"
   ]
  },
  {
   "cell_type": "code",
   "execution_count": 2,
   "metadata": {},
   "outputs": [
    {
     "name": "stdout",
     "output_type": "stream",
     "text": [
      "attacks.py\t\t     basetrainer.py    models\r\n",
      "Audio Reconstruction.ipynb   CustomDataset.py  __pycache__\r\n",
      "audio_training2.ipynb\t     dataloader.py     saved\r\n",
      "audio_training.ipynb\t     evaluation.ipynb  spectogram.py\r\n",
      "audio_training_output.ipynb  logs\t       utils.py\r\n"
     ]
    }
   ],
   "source": [
    "!ls"
   ]
  },
  {
   "cell_type": "markdown",
   "metadata": {
    "colab_type": "text",
    "id": "8pDrv-WQ2QVn"
   },
   "source": [
    "## Extract data from zip file\n",
    "\n",
    "\n"
   ]
  },
  {
   "cell_type": "code",
   "execution_count": null,
   "metadata": {
    "colab": {
     "base_uri": "https://localhost:8080/",
     "height": 102
    },
    "colab_type": "code",
    "executionInfo": {
     "elapsed": 4546,
     "status": "ok",
     "timestamp": 1572873608402,
     "user": {
      "displayName": "Antonia Lovjer",
      "photoUrl": "",
      "userId": "16395681258946800452"
     },
     "user_tz": 300
    },
    "id": "lAIamznNy8fo",
    "outputId": "7d5d965f-9b54-4384-a991-f6cc7236a6fa"
   },
   "outputs": [],
   "source": [
    "# import package to unzip .7zip file\n",
    "# !sudo apt-get install -y p7zip-full"
   ]
  },
  {
   "cell_type": "code",
   "execution_count": 5,
   "metadata": {
    "colab": {
     "base_uri": "https://localhost:8080/",
     "height": 428
    },
    "colab_type": "code",
    "executionInfo": {
     "elapsed": 113960,
     "status": "ok",
     "timestamp": 1572873725080,
     "user": {
      "displayName": "Antonia Lovjer",
      "photoUrl": "",
      "userId": "16395681258946800452"
     },
     "user_tz": 300
    },
    "id": "05cAj2gwyQ2k",
    "outputId": "4658aa78-5d58-4b21-c4fc-24f41f2b4031",
    "scrolled": true
   },
   "outputs": [],
   "source": [
    "# locally unzip the audio files in train.7z\n",
    "# !cd ../Data/ && p7zip -d train.7z"
   ]
  },
  {
   "cell_type": "code",
   "execution_count": 6,
   "metadata": {},
   "outputs": [],
   "source": [
    "# !ls ../Data/train/audio"
   ]
  },
  {
   "cell_type": "markdown",
   "metadata": {
    "colab_type": "text",
    "id": "n4KBXX6szo28"
   },
   "source": [
    "## Imports"
   ]
  },
  {
   "cell_type": "code",
   "execution_count": 3,
   "metadata": {
    "colab": {},
    "colab_type": "code",
    "id": "14LKOMt0y3rX"
   },
   "outputs": [],
   "source": [
    "%matplotlib inline\n",
    "\n",
    "import IPython.display\n",
    "import numpy as np\n",
    "import matplotlib.pyplot as plt\n",
    "import copy\n",
    "from scipy.io import wavfile\n",
    "from scipy.signal import butter, lfilter\n",
    "import scipy.ndimage\n",
    "\n",
    "import torch\n",
    "from torch.utils.data import DataLoader\n",
    "\n",
    "from utils import log_textfile\n",
    "from basetrainer import BaseTrainer\n",
    "from dataloader import load_data\n",
    "from CustomDataset import CustomDatasetSimple\n",
    "from models.resnet import ResNet, resnet34\n",
    "from attacks import fgsm, pgd_linf"
   ]
  },
  {
   "cell_type": "markdown",
   "metadata": {
    "colab_type": "text",
    "id": "Jpi0p5JP0n24"
   },
   "source": [
    "## Data Loader"
   ]
  },
  {
   "cell_type": "code",
   "execution_count": 4,
   "metadata": {},
   "outputs": [
    {
     "name": "stdout",
     "output_type": "stream",
     "text": [
      "There are 21105 train and 2577 val samples\n"
     ]
    }
   ],
   "source": [
    "DATADIR = '../Data/'\n",
    "\n",
    "trainset, valset = load_data(DATADIR)"
   ]
  },
  {
   "cell_type": "markdown",
   "metadata": {
    "colab_type": "text",
    "id": "roDTcA97jzUK"
   },
   "source": [
    "### Get filenames"
   ]
  },
  {
   "cell_type": "code",
   "execution_count": 6,
   "metadata": {},
   "outputs": [],
   "source": [
    "trainset_dl = trainset\n",
    "valset_dl = valset\n",
    "\n",
    "\n",
    "train_filepaths = [i[2] for i in trainset_dl]\n",
    "train_labels = [i[0] for i in trainset_dl]\n",
    "valid_filepaths = [i[2] for i in valset_dl]\n",
    "val_labels = [i[0] for i in valset_dl]"
   ]
  },
  {
   "cell_type": "code",
   "execution_count": 7,
   "metadata": {
    "colab": {},
    "colab_type": "code",
    "id": "WCzvFAM1rW6x"
   },
   "outputs": [],
   "source": [
    "# from utils import get_mean_std\n",
    "#mean, std = get_mean_std(train_data_loader)\n",
    "\n",
    "mean=-3.1259581955996425\n",
    "std=0.8961027914827521\n",
    "batch_size=32\n",
    "num_workers=8\n",
    "data_train_sub = CustomDatasetSimple(train_filepaths, train_labels, mean, std)\n",
    "data_valid_sub = CustomDatasetSimple(valid_filepaths, val_labels, mean, std)\n",
    "\n",
    "train_data_loader = torch.utils.data.DataLoader(\n",
    "    dataset=data_train_sub, batch_size=batch_size, shuffle=True,\n",
    "    num_workers=num_workers)\n",
    "\n",
    "valid_data_loader = torch.utils.data.DataLoader(\n",
    "    dataset=data_valid_sub, batch_size=batch_size, shuffle=True,\n",
    "    num_workers=num_workers)\n"
   ]
  },
  {
   "cell_type": "code",
   "execution_count": null,
   "metadata": {},
   "outputs": [],
   "source": []
  },
  {
   "cell_type": "code",
   "execution_count": null,
   "metadata": {},
   "outputs": [],
   "source": [
    "MODELNAME = 'full_dataset_normal'\n",
    "LOGFILE_PATH = 'logs/' + MODELNAME\n",
    "\n",
    "model = resnet34(pretrained=False, progress=False).cuda()\n",
    "\n",
    "criterion = torch.nn.CrossEntropyLoss()\n",
    "\n",
    "for param in model.parameters():\n",
    "  param.requires_grad = True\n",
    "\n",
    "trainer_pgd = BaseTrainer(model=model, \n",
    "                      train_dl=train_data_loader, \n",
    "                      valid_dl=valid_data_loader, \n",
    "                      criterion=criterion, \n",
    "                      model_filename=MODELNAME, \n",
    "                      n_epochs=3)\n",
    "\n",
    "trainer_pgd.fit_model_new(optimizer=optim.Adam(model.parameters(), lr=.001), \n",
    "                      n_epochs=1, \n",
    "                      LOGFILE_PATH=LOGFILE_PATH,\n",
    "                      model_filename=MODELNAME, \n",
    "                      attack=None, \n",
    "                      epsilon=0.3, \n",
    "                      alpha=alpha, \n",
    "                      num_iter=7)"
   ]
  },
  {
   "cell_type": "code",
   "execution_count": null,
   "metadata": {},
   "outputs": [],
   "source": [
    "MODELNAME = 'full_dataset_fgsm03'\n",
    "LOGFILE_PATH = 'logs/' + MODELNAME\n",
    "\n",
    "model = resnet34(pretrained=False, progress=False).cuda()\n",
    "\n",
    "criterion = torch.nn.CrossEntropyLoss()\n",
    "\n",
    "for param in model.parameters():\n",
    "  param.requires_grad = True\n",
    "\n",
    "trainer_pgd = BaseTrainer(model=model, \n",
    "                      train_dl=train_data_loader, \n",
    "                      valid_dl=valid_data_loader, \n",
    "                      criterion=criterion, \n",
    "                      model_filename=MODELNAME, \n",
    "                      n_epochs=3)\n",
    "\n",
    "trainer_pgd.fit_model_new(optimizer=optim.Adam(model.parameters(), lr=.001), \n",
    "                      n_epochs=1, \n",
    "                      LOGFILE_PATH=LOGFILE_PATH,\n",
    "                      model_filename=MODELNAME, \n",
    "                      attack=None, \n",
    "                      epsilon=0.3, \n",
    "                      alpha=None, \n",
    "                      num_iter=None)"
   ]
  },
  {
   "cell_type": "code",
   "execution_count": null,
   "metadata": {},
   "outputs": [],
   "source": [
    "MODELNAME = 'full_dataset_fgsm20'\n",
    "LOGFILE_PATH = 'logs/' + MODELNAME\n",
    "\n",
    "model = resnet34(pretrained=False, progress=False).cuda()\n",
    "\n",
    "criterion = torch.nn.CrossEntropyLoss()\n",
    "\n",
    "for param in model.parameters():\n",
    "  param.requires_grad = True\n",
    "\n",
    "trainer_pgd = BaseTrainer(model=model, \n",
    "                      train_dl=train_data_loader, \n",
    "                      valid_dl=valid_data_loader, \n",
    "                      criterion=criterion, \n",
    "                      model_filename=MODELNAME, \n",
    "                      n_epochs=3)\n",
    "\n",
    "trainer_pgd.fit_model_new(optimizer=optim.Adam(model.parameters(), lr=.001), \n",
    "                      n_epochs=1, \n",
    "                      LOGFILE_PATH=LOGFILE_PATH,\n",
    "                      model_filename=MODELNAME, \n",
    "                      attack=None, \n",
    "                      epsilon=2.0, \n",
    "                      alpha=None, \n",
    "                      num_iter=None)"
   ]
  },
  {
   "cell_type": "code",
   "execution_count": null,
   "metadata": {},
   "outputs": [],
   "source": [
    "MODELNAME = 'full_dataset_pdg03'\n",
    "LOGFILE_PATH = 'logs/' + MODELNAME\n",
    "\n",
    "model = resnet34(pretrained=False, progress=False).cuda()\n",
    "\n",
    "criterion = torch.nn.CrossEntropyLoss()\n",
    "\n",
    "for param in model.parameters():\n",
    "  param.requires_grad = True\n",
    "\n",
    "trainer_pgd = BaseTrainer(model=model, \n",
    "                      train_dl=train_data_loader, \n",
    "                      valid_dl=valid_data_loader, \n",
    "                      criterion=criterion, \n",
    "                      model_filename=MODELNAME, \n",
    "                      n_epochs=3)\n",
    "\n",
    "trainer_pgd.fit_model_new(optimizer=optim.Adam(model.parameters(), lr=.001), \n",
    "                      n_epochs=1, \n",
    "                      LOGFILE_PATH=LOGFILE_PATH,\n",
    "                      model_filename=MODELNAME, \n",
    "                      attack=pgd_linf, \n",
    "                      epsilon=0.3, \n",
    "                      alpha=0.01, \n",
    "                      num_iter=7)"
   ]
  }
 ],
 "metadata": {
  "accelerator": "GPU",
  "colab": {
   "collapsed_sections": [],
   "name": "audio_training.ipynb",
   "provenance": [],
   "toc_visible": true
  },
  "kernelspec": {
   "display_name": "Python 3",
   "language": "python",
   "name": "python3"
  },
  "language_info": {
   "codemirror_mode": {
    "name": "ipython",
    "version": 3
   },
   "file_extension": ".py",
   "mimetype": "text/x-python",
   "name": "python",
   "nbconvert_exporter": "python",
   "pygments_lexer": "ipython3",
   "version": "3.7.4"
  }
 },
 "nbformat": 4,
 "nbformat_minor": 1
}

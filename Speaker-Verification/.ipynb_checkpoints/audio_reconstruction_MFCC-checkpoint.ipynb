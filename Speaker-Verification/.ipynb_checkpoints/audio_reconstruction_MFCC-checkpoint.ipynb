{
 "cells": [
  {
   "cell_type": "code",
   "execution_count": 1,
   "metadata": {},
   "outputs": [],
   "source": [
    "%load_ext autoreload\n",
    "%autoreload 2"
   ]
  },
  {
   "cell_type": "markdown",
   "metadata": {},
   "source": [
    "### Imports"
   ]
  },
  {
   "cell_type": "code",
   "execution_count": 2,
   "metadata": {},
   "outputs": [
    {
     "ename": "ModuleNotFoundError",
     "evalue": "No module named 'utils'",
     "output_type": "error",
     "traceback": [
      "\u001b[0;31m---------------------------------------------------------------------------\u001b[0m",
      "\u001b[0;31mModuleNotFoundError\u001b[0m                       Traceback (most recent call last)",
      "\u001b[0;32m<ipython-input-2-4755a70be079>\u001b[0m in \u001b[0;36m<module>\u001b[0;34m\u001b[0m\n\u001b[1;32m     13\u001b[0m \u001b[0;32mfrom\u001b[0m \u001b[0mtorch\u001b[0m\u001b[0;34m.\u001b[0m\u001b[0mutils\u001b[0m\u001b[0;34m.\u001b[0m\u001b[0mdata\u001b[0m \u001b[0;32mimport\u001b[0m \u001b[0mDataLoader\u001b[0m\u001b[0;34m\u001b[0m\u001b[0;34m\u001b[0m\u001b[0m\n\u001b[1;32m     14\u001b[0m \u001b[0;34m\u001b[0m\u001b[0m\n\u001b[0;32m---> 15\u001b[0;31m \u001b[0;32mfrom\u001b[0m \u001b[0mutils\u001b[0m \u001b[0;32mimport\u001b[0m \u001b[0mlog_textfile\u001b[0m\u001b[0;34m,\u001b[0m \u001b[0mget_mean_std\u001b[0m\u001b[0;34m,\u001b[0m \u001b[0mwindows\u001b[0m\u001b[0;34m,\u001b[0m \u001b[0mpad_dimesions_mfcc\u001b[0m\u001b[0;34m,\u001b[0m \u001b[0mload_model\u001b[0m\u001b[0;34m\u001b[0m\u001b[0;34m\u001b[0m\u001b[0m\n\u001b[0m\u001b[1;32m     16\u001b[0m \u001b[0;32mfrom\u001b[0m \u001b[0mbasetrainer\u001b[0m \u001b[0;32mimport\u001b[0m \u001b[0mBaseTrainer\u001b[0m\u001b[0;34m\u001b[0m\u001b[0;34m\u001b[0m\u001b[0m\n\u001b[1;32m     17\u001b[0m \u001b[0;32mfrom\u001b[0m \u001b[0mdataloader\u001b[0m \u001b[0;32mimport\u001b[0m \u001b[0mload_data\u001b[0m\u001b[0;34m\u001b[0m\u001b[0;34m\u001b[0m\u001b[0m\n",
      "\u001b[0;31mModuleNotFoundError\u001b[0m: No module named 'utils'"
     ]
    }
   ],
   "source": [
    "%matplotlib inline\n",
    "\n",
    "import IPython.display\n",
    "import numpy as np\n",
    "import matplotlib.pyplot as plt\n",
    "import copy\n",
    "from scipy.io import wavfile\n",
    "from scipy.signal import butter, lfilter\n",
    "import scipy.ndimage\n",
    "import librosa\n",
    "\n",
    "import torch\n",
    "from torch.utils.data import DataLoader\n",
    "\n",
    "from utils import log_textfile, get_mean_std, windows, pad_dimesions_mfcc, load_model\n",
    "from basetrainer import BaseTrainer\n",
    "from dataloader import load_data\n",
    "from CustomDatasetMFCC import CustomDatasetMFCC\n",
    "from models.resnet import ResNet, resnet34\n",
    "from attacks import fgsm, pgd_linf"
   ]
  },
  {
   "cell_type": "code",
   "execution_count": null,
   "metadata": {},
   "outputs": [],
   "source": [
    "DATADIR = '../../Data/'\n",
    "\n",
    "data = load_data(DATADIR)\n",
    "\n",
    "trainset = pd.read_csv('filenames/trainset_10_uids.csv')\n",
    "valset = pd.read_csv('filenames/valset_10_uids.csv')\n",
    "trainset = trainset.drop('Unnamed: 0', axis=1)\n",
    "valset = valset.drop('Unnamed: 0', axis=1)"
   ]
  },
  {
   "cell_type": "code",
   "execution_count": null,
   "metadata": {},
   "outputs": [],
   "source": [
    "trainset_dl = [tuple(x) for x in trainset.values]\n",
    "valset_dl = [tuple(x) for x in valset.values]\n",
    "\n",
    "train_filepaths = [i[2] for i in trainset_dl]\n",
    "train_labels = [i[3] for i in trainset_dl]\n",
    "valid_filepaths = [i[2] for i in valset_dl]\n",
    "val_labels = [i[3] for i in valset_dl]"
   ]
  },
  {
   "cell_type": "code",
   "execution_count": null,
   "metadata": {},
   "outputs": [],
   "source": [
    "mean=-3.121299957927269\n",
    "std=50.02533504630946\n",
    "batch_size=16\n",
    "num_workers=8\n",
    "data_train_sub = CustomDataset(train_filepaths, train_labels, mean, std)\n",
    "data_valid_sub = CustomDataset(valid_filepaths, val_labels, mean, std)\n",
    "\n",
    "train_data_loader = torch.utils.data.DataLoader(\n",
    "    dataset=data_train_sub, batch_size=batch_size, shuffle=True,\n",
    "    num_workers=num_workers)\n",
    "\n",
    "valid_data_loader = torch.utils.data.DataLoader(\n",
    "    dataset=data_valid_sub, batch_size=batch_size, shuffle=True,\n",
    "    num_workers=num_workers)"
   ]
  },
  {
   "cell_type": "code",
   "execution_count": null,
   "metadata": {},
   "outputs": [],
   "source": [
    "normal_model = resnet34(pretrained=False, progress=False).cuda()\n",
    "normal_model.load_state_dict(torch.load('saved/10_uids_mfcc_resnet_norm_normal_10_epochs_128'))\n",
    "\n",
    "X, y = next(iter(valid_data_loader))\n",
    "\n",
    "\n",
    "delta_fgsm = fgsm(normal_model, X.float().cuda(), y.long().cuda(), epsilon=0.05, alpha=None, num_iter=None)\n",
    "\n",
    "y_attack_pred = normal_model(X.float().cuda()+delta_fgsm.cuda())\n",
    "y_pred = normal_model(X.float().cuda())\n",
    "\n",
    "\n",
    "np.mean(torch.argmax(y_attack_pred, axis=-1).detach().cpu().numpy()==y.detach().cpu().numpy())\n",
    "\n",
    "np.mean(torch.argmax(y_pred, axis=-1).detach().cpu().numpy()==y.detach().cpu().numpy())\n",
    "\n",
    "torch.argmax(y_attack_pred, axis=-1)"
   ]
  },
  {
   "cell_type": "code",
   "execution_count": null,
   "metadata": {},
   "outputs": [],
   "source": [
    "X_np = (X.float().cuda()).permute(0,2,3,1).detach().cpu().numpy()\n",
    "\n",
    "X_np_2 = np.squeeze(X_np[1]).T\n",
    "mean=-3.121299957927269\n",
    "std=50.02533504630946\n",
    "X_np_2 = X_np_2*std+mean\n",
    "\n",
    "aa = librosa.feature.inverse.mfcc_to_mel(X_np_2, n_mels=128, dct_type=2, norm='ortho', ref=1.)\n",
    "audio_file = librosa.feature.inverse.mel_to_audio(aa)\n",
    "\n",
    "IPython.display.Audio(data=audio_file, rate=22050)"
   ]
  }
 ],
 "metadata": {
  "kernelspec": {
   "display_name": "Python 3",
   "language": "python",
   "name": "python3"
  },
  "language_info": {
   "codemirror_mode": {
    "name": "ipython",
    "version": 3
   },
   "file_extension": ".py",
   "mimetype": "text/x-python",
   "name": "python",
   "nbconvert_exporter": "python",
   "pygments_lexer": "ipython3",
   "version": "3.7.4"
  }
 },
 "nbformat": 4,
 "nbformat_minor": 2
}
